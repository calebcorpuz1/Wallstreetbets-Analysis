{
 "cells": [
  {
   "cell_type": "markdown",
   "metadata": {},
   "source": [
    "# Caleb Corpuz \n",
    "# DSC 680 \n",
    "# Project 1: Wallstreetbets Subreddit Analysis"
   ]
  },
  {
   "cell_type": "code",
   "execution_count": 1,
   "metadata": {},
   "outputs": [],
   "source": [
    "# useful links\n",
    "\n",
    "# https://realpython.com/python-nltk-sentiment-analysis/#using-nltks-pre-trained-sentiment-analyzer\n",
    "\n",
    "# https://towardsdatascience.com/downloading-historical-stock-prices-in-python-93f85f059c1f  "
   ]
  },
  {
   "cell_type": "code",
   "execution_count": 2,
   "metadata": {},
   "outputs": [],
   "source": [
    "import re\n",
    "from re import search\n",
    "import string\n",
    "import pandas as pd\n",
    "import numpy as np\n",
    "from datetime import datetime\n",
    "import matplotlib.pyplot as plt\n",
    "from nltk.corpus import stopwords\n",
    "from nltk.tokenize import word_tokenize\n",
    "from nltk.sentiment import SentimentIntensityAnalyzer \n",
    "from sklearn.model_selection import train_test_split"
   ]
  },
  {
   "cell_type": "code",
   "execution_count": 3,
   "metadata": {},
   "outputs": [],
   "source": [
    "df = pd.read_csv('/Users/ccorpuz/Desktop/DSC 680/Data/reddit_wsb.csv')"
   ]
  },
  {
   "cell_type": "code",
   "execution_count": 4,
   "metadata": {
    "scrolled": true
   },
   "outputs": [],
   "source": [
    "#df.head(3)"
   ]
  },
  {
   "cell_type": "markdown",
   "metadata": {},
   "source": [
    "### Cleaning and Processing Data"
   ]
  },
  {
   "cell_type": "code",
   "execution_count": 5,
   "metadata": {},
   "outputs": [],
   "source": [
    "# Creates and indicator if some form of gamestop is present\n",
    "\n",
    "def search_GME(data):\n",
    "    if search(\"gme\", data):\n",
    "        x = 1\n",
    "    elif search(\"gamestop\", data):\n",
    "        x = 1\n",
    "    elif search(\"game stop\", data):\n",
    "        x = 1\n",
    "    else:\n",
    "        x = 0\n",
    "    return x"
   ]
  },
  {
   "cell_type": "code",
   "execution_count": 6,
   "metadata": {},
   "outputs": [],
   "source": [
    "df['title'] = df['title'].astype(str) \n",
    "df['title'] = df['title'].apply(lambda x: x.lower())\n",
    "\n",
    "df['title_gme_ind'] = df['title'].apply(lambda x: search_GME(x)) # search the title for a form of GME\n",
    "\n",
    "df['body'] = df['body'].astype(str)\n",
    "df['body'] = df['body'].apply(lambda x: x.lower())\n",
    "\n",
    "df['body_gme_ind'] = df['body'].apply(lambda x: search_GME(x)) # search the body for a form of GME\n",
    "\n",
    "df['all_gme_ind'] = df['title_gme_ind'] + df['body_gme_ind'] # total the indicator columns \n",
    "\n",
    "# create a df that has all the posts containing some form of gamestop in either the title or body\n",
    "df_gme = df[df['all_gme_ind'] > 0]"
   ]
  },
  {
   "cell_type": "code",
   "execution_count": 7,
   "metadata": {},
   "outputs": [],
   "source": [
    "#df_gme.head(3)"
   ]
  },
  {
   "cell_type": "code",
   "execution_count": 8,
   "metadata": {},
   "outputs": [],
   "source": [
    "# functions to clean text\n",
    "\n",
    "stop_words = set(stopwords.words('english')) \n",
    "\n",
    "def remove_emoji(string):\n",
    "    emoji_pattern = re.compile(\"[\"\n",
    "                           u\"\\U0001F600-\\U0001F64F\"  # emoticons\n",
    "                           u\"\\U0001F300-\\U0001F5FF\"  # symbols & pictographs\n",
    "                           u\"\\U0001F680-\\U0001F6FF\"  # transport & map symbols\n",
    "                           u\"\\U0001F1E0-\\U0001F1FF\"  # flags (iOS)\n",
    "                           u\"\\U00002702-\\U000027B0\"\n",
    "                           u\"\\U000024C2-\\U0001F251\"\n",
    "                           \"]+\", flags=re.UNICODE)\n",
    "    return emoji_pattern.sub(r'', string)\n",
    "\n",
    "def remove_stopword(data):\n",
    "    new_data = []\n",
    "    for word in data:\n",
    "        if word not in stop_words:\n",
    "            new_data.append(word)\n",
    "        else:\n",
    "            continue\n",
    "    return new_data\n",
    "\n",
    "def retrieve_date(data): # pulls only the year, month, and day from the timestamp\n",
    "    x = data[0:10]\n",
    "    return x"
   ]
  },
  {
   "cell_type": "code",
   "execution_count": 9,
   "metadata": {
    "collapsed": true
   },
   "outputs": [
    {
     "name": "stderr",
     "output_type": "stream",
     "text": [
      "<ipython-input-9-bcc131e22f37>:4: SettingWithCopyWarning: \n",
      "A value is trying to be set on a copy of a slice from a DataFrame.\n",
      "Try using .loc[row_indexer,col_indexer] = value instead\n",
      "\n",
      "See the caveats in the documentation: https://pandas.pydata.org/pandas-docs/stable/user_guide/indexing.html#returning-a-view-versus-a-copy\n",
      "  df_gme['clean_title'] = df_gme['title'].apply(lambda x: remove_emoji(x))\n",
      "<ipython-input-9-bcc131e22f37>:5: SettingWithCopyWarning: \n",
      "A value is trying to be set on a copy of a slice from a DataFrame.\n",
      "Try using .loc[row_indexer,col_indexer] = value instead\n",
      "\n",
      "See the caveats in the documentation: https://pandas.pydata.org/pandas-docs/stable/user_guide/indexing.html#returning-a-view-versus-a-copy\n",
      "  df_gme['clean_title'] = df_gme['clean_title'].apply(lambda x: re.sub(r'[^\\w\\s]', '', x))\n",
      "<ipython-input-9-bcc131e22f37>:6: SettingWithCopyWarning: \n",
      "A value is trying to be set on a copy of a slice from a DataFrame.\n",
      "Try using .loc[row_indexer,col_indexer] = value instead\n",
      "\n",
      "See the caveats in the documentation: https://pandas.pydata.org/pandas-docs/stable/user_guide/indexing.html#returning-a-view-versus-a-copy\n",
      "  df_gme['title_token'] = df_gme['clean_title'].apply(lambda x: word_tokenize(x))\n",
      "<ipython-input-9-bcc131e22f37>:7: SettingWithCopyWarning: \n",
      "A value is trying to be set on a copy of a slice from a DataFrame.\n",
      "Try using .loc[row_indexer,col_indexer] = value instead\n",
      "\n",
      "See the caveats in the documentation: https://pandas.pydata.org/pandas-docs/stable/user_guide/indexing.html#returning-a-view-versus-a-copy\n",
      "  df_gme['title_token'] = df_gme['title_token'].apply(lambda x: remove_stopword(x))\n",
      "<ipython-input-9-bcc131e22f37>:10: SettingWithCopyWarning: \n",
      "A value is trying to be set on a copy of a slice from a DataFrame.\n",
      "Try using .loc[row_indexer,col_indexer] = value instead\n",
      "\n",
      "See the caveats in the documentation: https://pandas.pydata.org/pandas-docs/stable/user_guide/indexing.html#returning-a-view-versus-a-copy\n",
      "  df_gme['clean_body'] = df_gme['body'].apply(lambda x: remove_emoji(x))\n",
      "<ipython-input-9-bcc131e22f37>:11: SettingWithCopyWarning: \n",
      "A value is trying to be set on a copy of a slice from a DataFrame.\n",
      "Try using .loc[row_indexer,col_indexer] = value instead\n",
      "\n",
      "See the caveats in the documentation: https://pandas.pydata.org/pandas-docs/stable/user_guide/indexing.html#returning-a-view-versus-a-copy\n",
      "  df_gme['clean_body'] = df_gme['clean_body'].apply(lambda x: re.sub(r'[^\\w\\s]', '', x))\n",
      "<ipython-input-9-bcc131e22f37>:12: SettingWithCopyWarning: \n",
      "A value is trying to be set on a copy of a slice from a DataFrame.\n",
      "Try using .loc[row_indexer,col_indexer] = value instead\n",
      "\n",
      "See the caveats in the documentation: https://pandas.pydata.org/pandas-docs/stable/user_guide/indexing.html#returning-a-view-versus-a-copy\n",
      "  df_gme['body_token'] = df_gme['clean_body'].apply(lambda x: word_tokenize(x))\n",
      "<ipython-input-9-bcc131e22f37>:13: SettingWithCopyWarning: \n",
      "A value is trying to be set on a copy of a slice from a DataFrame.\n",
      "Try using .loc[row_indexer,col_indexer] = value instead\n",
      "\n",
      "See the caveats in the documentation: https://pandas.pydata.org/pandas-docs/stable/user_guide/indexing.html#returning-a-view-versus-a-copy\n",
      "  df_gme['body_token'] = df_gme['body_token'].apply(lambda x: remove_stopword(x))\n",
      "<ipython-input-9-bcc131e22f37>:16: SettingWithCopyWarning: \n",
      "A value is trying to be set on a copy of a slice from a DataFrame.\n",
      "Try using .loc[row_indexer,col_indexer] = value instead\n",
      "\n",
      "See the caveats in the documentation: https://pandas.pydata.org/pandas-docs/stable/user_guide/indexing.html#returning-a-view-versus-a-copy\n",
      "  df_gme['date'] = df_gme['timestamp'].apply(lambda x: retrieve_date(x))\n"
     ]
    }
   ],
   "source": [
    "# Is it necessary to tokenize text if we are using VADER?\n",
    "\n",
    "# Clean title\n",
    "df_gme['clean_title'] = df_gme['title'].apply(lambda x: remove_emoji(x))\n",
    "df_gme['clean_title'] = df_gme['clean_title'].apply(lambda x: re.sub(r'[^\\w\\s]', '', x))\n",
    "df_gme['title_token'] = df_gme['clean_title'].apply(lambda x: word_tokenize(x)) \n",
    "df_gme['title_token'] = df_gme['title_token'].apply(lambda x: remove_stopword(x)) \n",
    "\n",
    "# Clean body\n",
    "df_gme['clean_body'] = df_gme['body'].apply(lambda x: remove_emoji(x))\n",
    "df_gme['clean_body'] = df_gme['clean_body'].apply(lambda x: re.sub(r'[^\\w\\s]', '', x)) \n",
    "df_gme['body_token'] = df_gme['clean_body'].apply(lambda x: word_tokenize(x))\n",
    "df_gme['body_token'] = df_gme['body_token'].apply(lambda x: remove_stopword(x)) \n",
    "\n",
    "# Create data column that only uses the year month and day\n",
    "df_gme['date'] = df_gme['timestamp'].apply(lambda x: retrieve_date(x))\n",
    "\n",
    "df_gme = df_gme.reset_index()"
   ]
  },
  {
   "cell_type": "code",
   "execution_count": 10,
   "metadata": {},
   "outputs": [],
   "source": [
    "# Sentiment analysis using VADER\n",
    "sia = SentimentIntensityAnalyzer()\n",
    "\n",
    "# Create columns for sentiment polarity scores\n",
    "df_gme['title_sia'] = df_gme['clean_title'].apply(lambda x: sia.polarity_scores(x))\n",
    "df_gme['body_sia'] = df_gme['clean_body'].apply(lambda x: sia.polarity_scores(x))\n",
    "\n",
    "#Retrieve only the compound score\n",
    "def retrieve_sia(data):\n",
    "    x = data['compound']\n",
    "    return x\n",
    "\n",
    "# Create columns for the compound sia\n",
    "df_gme['title_compound_sia'] = df_gme['title_sia'].apply(lambda x: retrieve_sia(x))\n",
    "df_gme['body_compound_sia'] = df_gme['body_sia'].apply(lambda x: retrieve_sia(x))\n",
    "\n",
    "\n",
    "# Full text (title and body combined)\n",
    "df_gme['full_text'] = df_gme['clean_title'] + ' ' + df_gme['clean_body']\n",
    "df_gme['full_token'] = df_gme['title_token'] + df_gme['body_token']\n",
    "df_gme['full_sia'] = df_gme['full_text'].apply(lambda x: sia.polarity_scores(x))\n",
    "df_gme['full_compound_sia'] = df_gme['full_sia'].apply(lambda x: retrieve_sia(x))"
   ]
  },
  {
   "cell_type": "code",
   "execution_count": 11,
   "metadata": {},
   "outputs": [],
   "source": [
    "# Clean up the dataframe\n",
    "\n",
    "df_gme_final = df_gme.drop(columns = ['index','title_gme_ind', 'body_gme_ind', 'all_gme_ind',\n",
    "                                      'id', 'score', 'url', 'comms_num', 'created', 'timestamp'])\n",
    "\n",
    "df_gme_final = df_gme_final.reset_index()\n",
    "\n",
    "# optional columns to get rid of\n",
    "#'title', 'body', 'title_token', 'body_token', 'full_text', 'full_sia'"
   ]
  },
  {
   "cell_type": "code",
   "execution_count": 71,
   "metadata": {},
   "outputs": [],
   "source": [
    "#df_gme_final.head(3)"
   ]
  },
  {
   "cell_type": "code",
   "execution_count": 20,
   "metadata": {},
   "outputs": [],
   "source": [
    "num_posts_df = df_gme_final.groupby(['date'])['title'].count().reset_index(name='num_posts')"
   ]
  },
  {
   "cell_type": "code",
   "execution_count": 21,
   "metadata": {
    "scrolled": true
   },
   "outputs": [],
   "source": [
    "num_posts_df = num_posts_df.reset_index()"
   ]
  },
  {
   "cell_type": "code",
   "execution_count": 72,
   "metadata": {},
   "outputs": [],
   "source": [
    "#num_posts_df.head()"
   ]
  },
  {
   "cell_type": "code",
   "execution_count": 28,
   "metadata": {},
   "outputs": [],
   "source": [
    "weekDays = [\"Mon\",\"Tues\",\"Wed\",\"Thur\",\"Fri\",\"Sat\",\"Sun\"]\n",
    "\n",
    "def get_weekday(data):\n",
    "    date1 = datetime.strptime(data, '%Y-%m-%d')\n",
    "    date2 = date1.weekday()\n",
    "    x = weekDays[date2]\n",
    "    return x\n",
    "    "
   ]
  },
  {
   "cell_type": "code",
   "execution_count": 29,
   "metadata": {},
   "outputs": [],
   "source": [
    "df_gme_final['weekday'] = df_gme_final['date'].apply(lambda x: get_weekday(x))"
   ]
  },
  {
   "cell_type": "code",
   "execution_count": 176,
   "metadata": {},
   "outputs": [],
   "source": [
    "weekday_posts = df_gme_final.groupby(['weekday'])['title'].count().reindex(weekDays).reset_index(name = \"num_posts\")"
   ]
  },
  {
   "cell_type": "markdown",
   "metadata": {},
   "source": [
    "### Historical Stock Data via Yahoo Finance"
   ]
  },
  {
   "cell_type": "code",
   "execution_count": 33,
   "metadata": {},
   "outputs": [],
   "source": [
    "avg_df = df_gme_final.groupby(['date'])['full_compound_sia'].mean().reset_index(name='Daily_Avg_Sia')"
   ]
  },
  {
   "cell_type": "code",
   "execution_count": 34,
   "metadata": {},
   "outputs": [],
   "source": [
    "import yfinance as yf\n",
    "import datetime\n",
    "import time\n",
    "import requests\n",
    "import io"
   ]
  },
  {
   "cell_type": "code",
   "execution_count": 49,
   "metadata": {},
   "outputs": [],
   "source": [
    "# Set the start and end dates of the date we want to pull\n",
    "start = datetime.datetime(2021,1,28)\n",
    "end = datetime.datetime(2021,3,17)\n",
    "\n",
    "# Pull the data for GME\n",
    "stock = yf.download('GME',start=start, end=end, progress=False)"
   ]
  },
  {
   "cell_type": "code",
   "execution_count": 50,
   "metadata": {},
   "outputs": [],
   "source": [
    "stock_df = pd.DataFrame(stock)\n",
    "stock_df = stock_df.reset_index()\n",
    "stock_df['price_change'] = stock_df['Close'] - stock_df['Open']\n",
    "#stock_df"
   ]
  },
  {
   "cell_type": "code",
   "execution_count": 51,
   "metadata": {},
   "outputs": [],
   "source": [
    "def return_weekday(data):\n",
    "    x = weekDays[data]\n",
    "    return x"
   ]
  },
  {
   "cell_type": "code",
   "execution_count": 63,
   "metadata": {},
   "outputs": [],
   "source": [
    "join_df = stock_df.join(avg_df) # join stock data and sentiment data\n",
    "join_df = join_df.drop(columns = ['date'])\n",
    "join_df_2 = join_df.join(num_posts_df) # bring in the number of posts\n",
    "#join_df_2 = join_df.drop(columns = ['date'])\n",
    "join_df_2['weekdaynum'] = join_df_2['Date'].apply(lambda x: x.weekday()) # retrieve the weekday number\n",
    "join_df_2['weekday'] = join_df_2['weekdaynum'].apply(lambda x: return_weekday(x)) # retrieve weekday name\n",
    "final_df = join_df_2.drop(columns = ['weekdaynum', 'date'])"
   ]
  },
  {
   "cell_type": "code",
   "execution_count": 73,
   "metadata": {},
   "outputs": [],
   "source": [
    "#final_df.head()"
   ]
  },
  {
   "cell_type": "code",
   "execution_count": 65,
   "metadata": {},
   "outputs": [],
   "source": [
    "final_df['sia_diff'] = final_df['Daily_Avg_Sia'].diff()"
   ]
  },
  {
   "cell_type": "code",
   "execution_count": 66,
   "metadata": {},
   "outputs": [],
   "source": [
    "def direction_change(data):\n",
    "    if data < 0:\n",
    "        x = -1\n",
    "    elif data == 0:\n",
    "        x = 0\n",
    "    else:\n",
    "        x = 1\n",
    "    return x\n",
    "\n",
    "final_df['sia_direction'] = final_df['sia_diff'].apply(lambda x: direction_change(x))\n",
    "final_df['price_direction'] = final_df['price_change'].apply(lambda x: direction_change(x))"
   ]
  },
  {
   "cell_type": "code",
   "execution_count": 68,
   "metadata": {},
   "outputs": [],
   "source": [
    "#final_df"
   ]
  },
  {
   "cell_type": "code",
   "execution_count": null,
   "metadata": {},
   "outputs": [],
   "source": [
    "final_df.to_csv('/Users/ccorpuz/Desktop/DSC 680/reddit_stock_df.csv')"
   ]
  },
  {
   "cell_type": "markdown",
   "metadata": {},
   "source": [
    "### How does reddit posts relate to stock data?"
   ]
  },
  {
   "cell_type": "code",
   "execution_count": 70,
   "metadata": {},
   "outputs": [
    {
     "data": {
      "text/html": [
       "<div>\n",
       "<style scoped>\n",
       "    .dataframe tbody tr th:only-of-type {\n",
       "        vertical-align: middle;\n",
       "    }\n",
       "\n",
       "    .dataframe tbody tr th {\n",
       "        vertical-align: top;\n",
       "    }\n",
       "\n",
       "    .dataframe thead th {\n",
       "        text-align: right;\n",
       "    }\n",
       "</style>\n",
       "<table border=\"1\" class=\"dataframe\">\n",
       "  <thead>\n",
       "    <tr style=\"text-align: right;\">\n",
       "      <th></th>\n",
       "      <th>Date</th>\n",
       "      <th>Open</th>\n",
       "      <th>High</th>\n",
       "      <th>Low</th>\n",
       "      <th>Close</th>\n",
       "      <th>Adj Close</th>\n",
       "      <th>Volume</th>\n",
       "      <th>price_change</th>\n",
       "      <th>Daily_Avg_Sia</th>\n",
       "      <th>index</th>\n",
       "      <th>num_posts</th>\n",
       "      <th>weekday</th>\n",
       "      <th>sia_diff</th>\n",
       "      <th>sia_direction</th>\n",
       "      <th>price_direction</th>\n",
       "    </tr>\n",
       "  </thead>\n",
       "  <tbody>\n",
       "    <tr>\n",
       "      <th>0</th>\n",
       "      <td>2021-01-28</td>\n",
       "      <td>265.000000</td>\n",
       "      <td>483.000000</td>\n",
       "      <td>112.25</td>\n",
       "      <td>193.600006</td>\n",
       "      <td>193.600006</td>\n",
       "      <td>58815800</td>\n",
       "      <td>-71.399994</td>\n",
       "      <td>0.007803</td>\n",
       "      <td>0</td>\n",
       "      <td>458</td>\n",
       "      <td>Thur</td>\n",
       "      <td>NaN</td>\n",
       "      <td>1</td>\n",
       "      <td>-1</td>\n",
       "    </tr>\n",
       "    <tr>\n",
       "      <th>1</th>\n",
       "      <td>2021-01-29</td>\n",
       "      <td>379.709991</td>\n",
       "      <td>413.980011</td>\n",
       "      <td>250.00</td>\n",
       "      <td>325.000000</td>\n",
       "      <td>325.000000</td>\n",
       "      <td>50259200</td>\n",
       "      <td>-54.709991</td>\n",
       "      <td>0.008818</td>\n",
       "      <td>1</td>\n",
       "      <td>4995</td>\n",
       "      <td>Fri</td>\n",
       "      <td>0.001015</td>\n",
       "      <td>1</td>\n",
       "      <td>-1</td>\n",
       "    </tr>\n",
       "    <tr>\n",
       "      <th>2</th>\n",
       "      <td>2021-02-01</td>\n",
       "      <td>316.559998</td>\n",
       "      <td>322.000000</td>\n",
       "      <td>212.00</td>\n",
       "      <td>225.000000</td>\n",
       "      <td>225.000000</td>\n",
       "      <td>37382200</td>\n",
       "      <td>-91.559998</td>\n",
       "      <td>0.240263</td>\n",
       "      <td>2</td>\n",
       "      <td>600</td>\n",
       "      <td>Mon</td>\n",
       "      <td>0.231446</td>\n",
       "      <td>1</td>\n",
       "      <td>-1</td>\n",
       "    </tr>\n",
       "  </tbody>\n",
       "</table>\n",
       "</div>"
      ],
      "text/plain": [
       "        Date        Open        High     Low       Close   Adj Close  \\\n",
       "0 2021-01-28  265.000000  483.000000  112.25  193.600006  193.600006   \n",
       "1 2021-01-29  379.709991  413.980011  250.00  325.000000  325.000000   \n",
       "2 2021-02-01  316.559998  322.000000  212.00  225.000000  225.000000   \n",
       "\n",
       "     Volume  price_change  Daily_Avg_Sia  index  num_posts weekday  sia_diff  \\\n",
       "0  58815800    -71.399994       0.007803      0        458    Thur       NaN   \n",
       "1  50259200    -54.709991       0.008818      1       4995     Fri  0.001015   \n",
       "2  37382200    -91.559998       0.240263      2        600     Mon  0.231446   \n",
       "\n",
       "   sia_direction  price_direction  \n",
       "0              1               -1  \n",
       "1              1               -1  \n",
       "2              1               -1  "
      ]
     },
     "execution_count": 70,
     "metadata": {},
     "output_type": "execute_result"
    }
   ],
   "source": [
    "final_df.head(3)"
   ]
  },
  {
   "cell_type": "markdown",
   "metadata": {},
   "source": [
    "## EDA"
   ]
  },
  {
   "cell_type": "markdown",
   "metadata": {},
   "source": [
    "### What are the most common words?"
   ]
  },
  {
   "cell_type": "code",
   "execution_count": 193,
   "metadata": {
    "collapsed": true
   },
   "outputs": [
    {
     "data": {
      "text/plain": [
       "['math', 'professor', 'scott', 'steiner', 'says']"
      ]
     },
     "execution_count": 193,
     "metadata": {},
     "output_type": "execute_result"
    }
   ],
   "source": [
    "full_corpus = []\n",
    "\n",
    "def retrieve_corpus(data):\n",
    "    for w in data:\n",
    "        full_corpus.append(w)\n",
    "        \n",
    "df_gme['full_token'].apply(lambda x: retrieve_corpus(x))\n",
    "\n",
    "full_corpus[0:5]"
   ]
  },
  {
   "cell_type": "code",
   "execution_count": 196,
   "metadata": {},
   "outputs": [
    {
     "name": "stdout",
     "output_type": "stream",
     "text": [
      "The top 10 most common words are:\n",
      "('gme', 21494)\n",
      "('shares', 8393)\n",
      "('stock', 7885)\n",
      "('short', 7481)\n",
      "('buy', 7062)\n",
      "('price', 6494)\n",
      "('like', 6445)\n",
      "('market', 6280)\n",
      "('im', 6235)\n",
      "('dont', 5750)\n"
     ]
    }
   ],
   "source": [
    "from nltk import FreqDist\n",
    "\n",
    "print(\"The top 10 most common words are:\")\n",
    "freq_dist_pos = FreqDist(full_corpus)\n",
    "for i in freq_dist_pos.most_common(10): # Top 10 most common words\n",
    "    print(i)"
   ]
  },
  {
   "cell_type": "markdown",
   "metadata": {},
   "source": [
    "### Sentiment vs Stock Price"
   ]
  },
  {
   "cell_type": "code",
   "execution_count": 169,
   "metadata": {},
   "outputs": [],
   "source": [
    "sia1 = final_df['Daily_Avg_Sia']\n",
    "sia_diff = final_df['sia_diff']\n",
    "price = final_df['Close']\n",
    "price_change = final_df['price_change']\n",
    "date = final_df['Date']\n",
    "index = final_df['index']"
   ]
  },
  {
   "cell_type": "code",
   "execution_count": 206,
   "metadata": {},
   "outputs": [
    {
     "data": {
      "image/png": "[encoded data removed]",
      "text/plain": [
       "<Figure size 432x288 with 1 Axes>"
      ]
     },
     "metadata": {
      "needs_background": "light"
     },
     "output_type": "display_data"
    }
   ],
   "source": [
    "plt.scatter(x = final_df['Close'], y = final_df['Daily_Avg_Sia'])\n",
    "plt.xlabel(\"Closing Price\")\n",
    "plt.ylabel(\"Daily Average Sentiment Score\")\n",
    "plt.title(\"Daily Avg Sentiment vs Closing Price\")\n",
    "plt.show()"
   ]
  },
  {
   "cell_type": "code",
   "execution_count": 172,
   "metadata": {},
   "outputs": [
    {
     "data": {
      "image/png": "[encoded data removed]",
      "text/plain": [
       "<Figure size 432x288 with 1 Axes>"
      ]
     },
     "metadata": {
      "needs_background": "light"
     },
     "output_type": "display_data"
    }
   ],
   "source": [
    "plt.scatter(x = final_df['price_change'], y = final_df['Daily_Avg_Sia'])\n",
    "plt.xlabel(\"Price Change\")\n",
    "plt.ylabel(\"Daily Average Sentiment Score\")\n",
    "plt.title(\"Daily Avg Sentiment vs Price Change\")\n",
    "plt.show()"
   ]
  },
  {
   "cell_type": "code",
   "execution_count": 82,
   "metadata": {},
   "outputs": [
    {
     "data": {
      "image/png": "[encoded data removed]",
      "text/plain": [
       "<Figure size 432x288 with 1 Axes>"
      ]
     },
     "metadata": {
      "needs_background": "light"
     },
     "output_type": "display_data"
    }
   ],
   "source": [
    "plt.plot(index, sia1)\n",
    "plt.scatter(index, sia1)\n",
    "plt.title(\"Daily Average Sentiment Score\")\n",
    "plt.locator_params(axis=\"x\", nbins=33)\n",
    "plt.show()"
   ]
  },
  {
   "cell_type": "code",
   "execution_count": 168,
   "metadata": {},
   "outputs": [
    {
     "data": {
      "image/png": "[encoded data removed]",
      "text/plain": [
       "<Figure size 432x288 with 1 Axes>"
      ]
     },
     "metadata": {
      "needs_background": "light"
     },
     "output_type": "display_data"
    }
   ],
   "source": [
    "plt.plot(index, sia_diff)\n",
    "plt.scatter(index, sia_diff)\n",
    "plt.title(\"Daily Sentiment change\")\n",
    "plt.locator_params(axis=\"x\", nbins=33)\n",
    "plt.show()"
   ]
  },
  {
   "cell_type": "code",
   "execution_count": 171,
   "metadata": {},
   "outputs": [
    {
     "data": {
      "image/png": "[encoded data removed]",
      "text/plain": [
       "<Figure size 432x288 with 1 Axes>"
      ]
     },
     "metadata": {
      "needs_background": "light"
     },
     "output_type": "display_data"
    }
   ],
   "source": [
    "plt.plot(index, price)\n",
    "plt.scatter(index, price)\n",
    "plt.title(\"Daily Stock Closing Price\")\n",
    "plt.locator_params(axis=\"x\", nbins=33)\n",
    "plt.show()"
   ]
  },
  {
   "cell_type": "code",
   "execution_count": 84,
   "metadata": {},
   "outputs": [
    {
     "data": {
      "image/png": "[encoded data removed]",
      "text/plain": [
       "<Figure size 432x288 with 1 Axes>"
      ]
     },
     "metadata": {
      "needs_background": "light"
     },
     "output_type": "display_data"
    }
   ],
   "source": [
    "plt.plot(index, price_change)\n",
    "plt.scatter(index, price_change)\n",
    "plt.title(\"Daily Stock Price Change\")\n",
    "plt.locator_params(axis=\"x\", nbins=33)\n",
    "plt.show()"
   ]
  },
  {
   "cell_type": "markdown",
   "metadata": {},
   "source": [
    "### Number of Posts vs Volume"
   ]
  },
  {
   "cell_type": "code",
   "execution_count": 145,
   "metadata": {},
   "outputs": [],
   "source": [
    "#no_outlier_df = df_gme_final[df_gme_final['date'] != '2021-01-29']"
   ]
  },
  {
   "cell_type": "code",
   "execution_count": 178,
   "metadata": {},
   "outputs": [],
   "source": [
    "weekday_volume = final_df.groupby(['weekday'])['Volume'].sum().reindex(weekDays).reset_index(name = \"Volume\")"
   ]
  },
  {
   "cell_type": "code",
   "execution_count": 159,
   "metadata": {},
   "outputs": [],
   "source": [
    "no_outlier_2 = final_df[final_df['Date'] != '2021-01-29']"
   ]
  },
  {
   "cell_type": "code",
   "execution_count": 149,
   "metadata": {},
   "outputs": [],
   "source": [
    "weekday_posts = df_gme_final.groupby(['weekday'])['title'].count().reindex(weekDays).reset_index(name = \"num_posts\")"
   ]
  },
  {
   "cell_type": "code",
   "execution_count": 150,
   "metadata": {},
   "outputs": [],
   "source": [
    "weekday_volume = final_df.groupby(['weekday'])['Volume'].sum().reindex(weekDays).reset_index(name = \"Volume\")"
   ]
  },
  {
   "cell_type": "code",
   "execution_count": 165,
   "metadata": {},
   "outputs": [
    {
     "data": {
      "image/png": "[encoded data removed]",
      "text/plain": [
       "<Figure size 432x288 with 1 Axes>"
      ]
     },
     "metadata": {
      "needs_background": "light"
     },
     "output_type": "display_data"
    }
   ],
   "source": [
    "plt.plot(final_df['Date'], final_df['num_posts'])\n",
    "plt.xlabel(\"Date\")\n",
    "plt.ylabel(\"Num of Posts\")\n",
    "plt.title(\"Number of Posts per Day\")\n",
    "plt.show()"
   ]
  },
  {
   "cell_type": "code",
   "execution_count": 167,
   "metadata": {},
   "outputs": [
    {
     "data": {
      "image/png": "[encoded data removed]",
      "text/plain": [
       "<Figure size 432x288 with 1 Axes>"
      ]
     },
     "metadata": {
      "needs_background": "light"
     },
     "output_type": "display_data"
    }
   ],
   "source": [
    "plt.plot(final_df['Date'], final_df['Volume'])\n",
    "plt.xlabel(\"Date\")\n",
    "plt.ylabel(\"Volume\")\n",
    "plt.title(\"Volume per Day\")\n",
    "plt.show()"
   ]
  },
  {
   "cell_type": "code",
   "execution_count": 151,
   "metadata": {},
   "outputs": [
    {
     "data": {
      "image/png": "[encoded data removed]",
      "text/plain": [
       "<Figure size 432x288 with 1 Axes>"
      ]
     },
     "metadata": {
      "needs_background": "light"
     },
     "output_type": "display_data"
    }
   ],
   "source": [
    "#remove_outlier = final_df[final_df['num_posts'] < 4000]\n",
    "plt.scatter(x = final_df['num_posts'], y = final_df['Volume'])\n",
    "plt.xlabel(\"Number of Posts\")\n",
    "plt.ylabel(\"Volume\")\n",
    "plt.title(\"Number of Posts vs Volume\")\n",
    "plt.show()"
   ]
  },
  {
   "cell_type": "code",
   "execution_count": 173,
   "metadata": {},
   "outputs": [
    {
     "data": {
      "image/png": "[encoded data removed]",
      "text/plain": [
       "<Figure size 432x288 with 1 Axes>"
      ]
     },
     "metadata": {
      "needs_background": "light"
     },
     "output_type": "display_data"
    },
    {
     "name": "stdout",
     "output_type": "stream",
     "text": [
      "Number of Posts by Weekday:\n",
      "  weekday  num_posts\n",
      "0     Mon        623\n",
      "1    Tues        869\n",
      "2     Wed       1317\n",
      "3    Thur       1518\n",
      "4     Fri       6520\n",
      "5     Sat       1986\n",
      "6     Sun        911\n"
     ]
    }
   ],
   "source": [
    "plt.bar(height = weekday_posts['num_posts'], x = weekday_posts['weekday'])\n",
    "plt.title(\"Posts per Day of the Week\")\n",
    "plt.show()\n",
    "\n",
    "print(\"Number of Posts by Weekday:\")\n",
    "print(weekday_posts)"
   ]
  },
  {
   "cell_type": "code",
   "execution_count": 181,
   "metadata": {},
   "outputs": [
    {
     "data": {
      "image/png": "[encoded data removed]",
      "text/plain": [
       "<Figure size 432x288 with 1 Axes>"
      ]
     },
     "metadata": {
      "needs_background": "light"
     },
     "output_type": "display_data"
    },
    {
     "name": "stdout",
     "output_type": "stream",
     "text": [
      "Volume by Weekday:\n",
      "  weekday       Volume\n",
      "0     Mon  219668000.0\n",
      "1    Tues  228374500.0\n",
      "2     Wed  261987600.0\n",
      "3    Thur  369199500.0\n",
      "4     Fri  308855600.0\n"
     ]
    }
   ],
   "source": [
    "plt.bar(height = weekday_volume['Volume'], x = weekday_volume['weekday'])\n",
    "plt.title(\"Volume per Day of the Week\")\n",
    "plt.show()\n",
    "\n",
    "print(\"Volume by Weekday:\")\n",
    "print(weekday_volume[0:5])"
   ]
  },
  {
   "cell_type": "code",
   "execution_count": null,
   "metadata": {},
   "outputs": [],
   "source": [
    "# There seems to be some similarities in the trends. Maybe a lagged relationship? I know how to \n",
    "# use lags in R so maybe export the data to R, lag a variable, then run a regression. Create a lag for 1 through\n",
    "# 5 days and see which has the best correlation"
   ]
  },
  {
   "cell_type": "markdown",
   "metadata": {},
   "source": [
    "#### Possible Research Questions:\n",
    "\n",
    "- How does the post sentiment relate to GME stock?\n",
    "- Does sentiment correlate with stock price?\n",
    "- Does the volume of posts on a given day show more change in the price or the volume of trades?\n",
    "- does day of the week affect sentiment?\n"
   ]
  },
  {
   "cell_type": "code",
   "execution_count": null,
   "metadata": {},
   "outputs": [],
   "source": [
    "# To look at the correlation between the reddit posts and stock data, I ran the following code in R. \n",
    "\n",
    "r_code = '''\n",
    "library(tidyverse)\n",
    "\n",
    "rm(list=ls())\n",
    "\n",
    "reddit_df <- read.csv('/Users/ccorpuz/Desktop/DSC 680/reddit_stock_df.csv')\n",
    "\n",
    "df <- reddit_df %>%\n",
    "  transmute(\n",
    "    date = as.Date(Date),\n",
    "    Daily_Avg_Sia = Daily_Avg_Sia,\n",
    "    close = Close,\n",
    "    close_lag1 = lag(close, 1),\n",
    "    close_lag2 = lag(close, 2),\n",
    "    close_lag3 = lag(close, 3),\n",
    "    close_lag4 = lag(close, 4),\n",
    "    close_lag5 = lag(close, 5),\n",
    "    sia_diff = sia_diff,\n",
    "    sia_diff_Lag1 = lag(sia_diff, 1),\n",
    "    sia_diff_Lag2 = lag(sia_diff, 2),\n",
    "    sia_diff_Lag3 = lag(sia_diff, 3),\n",
    "    sia_diff_Lag4 = lag(sia_diff, 4),\n",
    "    sia_diff_Lag5 = lag(sia_diff, 5),\n",
    "    price_change = price_change,\n",
    "    price_change_Lag1 = lag(price_change, 1),\n",
    "    price_change_Lag2 = lag(price_change, 2),\n",
    "    price_change_Lag3 = lag(price_change, 3),\n",
    "    price_change_Lag4 = lag(price_change, 4),\n",
    "    price_change_Lag5 = lag(price_change, 5),\n",
    "    Volume = Volume,\n",
    "    Volume_lag1 = lag(Volume, 1),\n",
    "    Volume_lag2 = lag(Volume, 2),\n",
    "    Volume_lag3 = lag(Volume, 3),\n",
    "    Volume_lag4 = lag(Volume, 4),\n",
    "    Volume_lag5 = lag(Volume, 5),\n",
    "    num_posts = num_posts\n",
    "    \n",
    "  )\n",
    "\n",
    "ggplot(df, aes(x = date, y = Daily_Avg_Sia)) + \n",
    "  geom_point() + \n",
    "  geom_line() + \n",
    "  ggtitle(\"Daily Average Sentiment Score\")\n",
    "\n",
    "ggplot(df, aes(x = date, y = price_change)) + \n",
    "  geom_point() + \n",
    "  geom_line() + \n",
    "  ggtitle(\"Daily Price Change\")\n",
    "\n",
    "### Correlation between sentiment and price #######################################################\n",
    "cor(df$Daily_Avg_Sia, df$close, use = \"pairwise.complete.obs\", method = \"pearson\")\n",
    "cor(df$Daily_Avg_Sia, df$close_lag1, use = \"pairwise.complete.obs\", method = \"pearson\")\n",
    "cor(df$Daily_Avg_Sia, df$close_lag2, use = \"pairwise.complete.obs\", method = \"pearson\")\n",
    "cor(df$Daily_Avg_Sia, df$close_lag3, use = \"pairwise.complete.obs\", method = \"pearson\")\n",
    "cor(df$Daily_Avg_Sia, df$close_lag4, use = \"pairwise.complete.obs\", method = \"pearson\")\n",
    "cor(df$Daily_Avg_Sia, df$close_lag5, use = \"pairwise.complete.obs\", method = \"pearson\")\n",
    "\n",
    "### Correlation between sentiment and price change ################################################\n",
    "\n",
    "cor(df$Daily_Avg_Sia, df$price_change, use = \"pairwise.complete.obs\", method = \"pearson\")\n",
    "cor(df$Daily_Avg_Sia, df$price_change_Lag1, use = \"pairwise.complete.obs\", method = \"pearson\")\n",
    "cor(df$Daily_Avg_Sia, df$price_change_Lag2, use = \"pairwise.complete.obs\", method = \"pearson\")\n",
    "cor(df$Daily_Avg_Sia, df$price_change_Lag3, use = \"pairwise.complete.obs\", method = \"pearson\")\n",
    "cor(df$Daily_Avg_Sia, df$price_change_Lag4, use = \"pairwise.complete.obs\", method = \"pearson\")\n",
    "cor(df$Daily_Avg_Sia, df$price_change_Lag5, use = \"pairwise.complete.obs\", method = \"pearson\")\n",
    "\n",
    "### Correlation between sentiment change and price change #########################################\n",
    "\n",
    "cor(df$sia_diff, df$price_change, use = \"pairwise.complete.obs\", method = \"pearson\")\n",
    "cor(df$sia_diff, df$price_change_Lag1, use = \"pairwise.complete.obs\", method = \"pearson\")\n",
    "cor(df$sia_diff, df$price_change_Lag2, use = \"pairwise.complete.obs\", method = \"pearson\")\n",
    "cor(df$sia_diff, df$price_change_Lag3, use = \"pairwise.complete.obs\", method = \"pearson\")\n",
    "cor(df$sia_diff, df$price_change_Lag4, use = \"pairwise.complete.obs\", method = \"pearson\")\n",
    "cor(df$sia_diff, df$price_change_Lag5, use = \"pairwise.complete.obs\", method = \"pearson\")\n",
    "\n",
    "\n",
    "### Correlation between number of posts and volume ################################################\n",
    "\n",
    "cor(df$num_posts, df$Volume, use = \"pairwise.complete.obs\", method = \"pearson\")\n",
    "cor(df$num_posts, df$Volume_lag1, use = \"pairwise.complete.obs\", method = \"pearson\")\n",
    "cor(df$num_posts, df$Volume_lag2, use = \"pairwise.complete.obs\", method = \"pearson\")\n",
    "cor(df$num_posts, df$Volume_lag3, use = \"pairwise.complete.obs\", method = \"pearson\")\n",
    "cor(df$num_posts, df$Volume_lag4, use = \"pairwise.complete.obs\", method = \"pearson\")\n",
    "cor(df$num_posts, df$Volume_lag5, use = \"pairwise.complete.obs\", method = \"pearson\")\n",
    "\n",
    "'''\n"
   ]
  },
  {
   "cell_type": "markdown",
   "metadata": {},
   "source": [
    "### Things to include\n",
    "\n",
    "\n",
    "- How many times the terms \"buy\" and \"sell\" occurs in a day\n",
    "\n",
    "\n",
    "\n"
   ]
  },
  {
   "cell_type": "code",
   "execution_count": null,
   "metadata": {},
   "outputs": [],
   "source": []
  }
 ],
 "metadata": {
  "kernelspec": {
   "display_name": "Python 3",
   "language": "python",
   "name": "python3"
  },
  "language_info": {
   "codemirror_mode": {
    "name": "ipython",
    "version": 3
   },
   "file_extension": ".py",
   "mimetype": "text/x-python",
   "name": "python",
   "nbconvert_exporter": "python",
   "pygments_lexer": "ipython3",
   "version": "3.8.5"
  }
 },
 "nbformat": 4,
 "nbformat_minor": 4
}
